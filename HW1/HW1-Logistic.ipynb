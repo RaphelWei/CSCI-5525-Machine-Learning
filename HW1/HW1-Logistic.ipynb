{
 "cells": [
  {
   "cell_type": "markdown",
   "metadata": {},
   "source": [
    "# Overview\n",
    "I mainly used the cost function $\\ell(y_i \\mid x_i, \\theta) = y_i \\ln(h)) + (1 - y_i)\\ln(1-h))$, where $h = \\sigma(\\theta^\\intercal x_i)$ to implement my code. To update the weights of logistic regression, I used gradient descent. I took the derivative of $\\ell$ and set it to zero. Then I get $\\frac{\\partial \\theta}{\\partial \\theta} = X^\\intercal(y-h)$. Using $\\theta = \\theta -lr\\times \\frac{\\partial \\theta}{\\partial w}$ to update $\\theta$. After 1000 iterations, my model is converged and I achived the optimal $\\theta$. Then I applied the weights on valid data to calculated the error rates."
   ]
  },
  {
   "cell_type": "code",
   "execution_count": 234,
   "metadata": {},
   "outputs": [],
   "source": [
    "import numpy as np\n",
    "import pandas as pd\n",
    "import matplotlib.pyplot as plt"
   ]
  },
  {
   "cell_type": "code",
   "execution_count": 235,
   "metadata": {},
   "outputs": [],
   "source": [
    "# reading data\n",
    "X = pd.read_csv(\"IRISFeat.csv\", header = None).values\n",
    "y = pd.read_csv(\"IRISlabel.csv\", header = None).values\n",
    "y = y.reshape([-1,1])\n",
    "\n",
    "# insert X0, a vector with all 1s, to the first column of feature matrix X\n",
    "X0 = np.ones((X.shape[0], 1))\n",
    "X = np.concatenate((X0, X), axis = 1)\n"
   ]
  },
  {
   "cell_type": "code",
   "execution_count": 236,
   "metadata": {},
   "outputs": [],
   "source": [
    "# initializing parameters\n",
    "# lr - learning rate\n",
    "# num_iter - Max number of epochs\n",
    "# eps - a tiny number added to sigma(z) to avoid the log(0) error\n",
    "lr = 0.2\n",
    "num_iter = 1000\n",
    "eps = 1e-10"
   ]
  },
  {
   "cell_type": "code",
   "execution_count": 237,
   "metadata": {},
   "outputs": [],
   "source": [
    "def cross_validation(X, y):\n",
    "    X_shuffled = {}\n",
    "    y_shuffled = {}\n",
    "    num = len(y)\n",
    "    index = np.arange(num)\n",
    "    np.random.shuffle(index)\n",
    "    for i in range(5):\n",
    "        X_shuffled[i] = X[index[i*num//5:(i+1)*num//5],:]\n",
    "        y_shuffled[i] = y[index[i*num//5:(i+1)*num//5],:]\n",
    "    return X_shuffled, y_shuffled"
   ]
  },
  {
   "cell_type": "code",
   "execution_count": 238,
   "metadata": {},
   "outputs": [],
   "source": [
    "# After taking a fold as valid set, merge the rest folds to one matrix as training set \n",
    "def merge_dict(itr, mydict):\n",
    "    a = np.ones((1,mydict[itr].shape[1]))\n",
    "    for i in range(5):\n",
    "        if i != itr:\n",
    "            a = np.concatenate((a, mydict[i]), axis=0)\n",
    "    a = np.delete(a, 0, axis=0)\n",
    "    return a"
   ]
  },
  {
   "cell_type": "code",
   "execution_count": 239,
   "metadata": {},
   "outputs": [],
   "source": [
    "# logistic function\n",
    "def sigmoid(z):\n",
    "    return 1/(1+np.exp(-z))"
   ]
  },
  {
   "cell_type": "code",
   "execution_count": 240,
   "metadata": {},
   "outputs": [],
   "source": [
    "def get_next_train_valid(X_shuffled, y_shuffled, itr):\n",
    "    X_valid = X_shuffled[itr]\n",
    "    y_valid = y_shuffled[itr]\n",
    "    X_train = merge_dict(itr, X_shuffled)\n",
    "    y_train = merge_dict(itr, y_shuffled)\n",
    "    return X_train, y_train, X_valid, y_valid"
   ]
  },
  {
   "cell_type": "code",
   "execution_count": 241,
   "metadata": {},
   "outputs": [],
   "source": [
    "def predict(Xvalid,theta):\n",
    "    z = np.dot(Xvalid, theta)\n",
    "    y_predict_class = sigmoid(z)\n",
    "    return y_predict_class"
   ]
  },
  {
   "cell_type": "code",
   "execution_count": 242,
   "metadata": {},
   "outputs": [],
   "source": [
    "def cost_function(X_train, y_train, theta):\n",
    "    m = len(y)\n",
    "    y_predict = predict(X_train, theta)\n",
    "    cost = -np.dot(y_train.T, np.log(y_predict+eps))-np.dot((1-y_train.T), np.log(1-y_predict+eps))\n",
    "    cost = cost/m\n",
    "    return cost"
   ]
  },
  {
   "cell_type": "code",
   "execution_count": 243,
   "metadata": {},
   "outputs": [],
   "source": [
    "# label those features with prob>=0.5 as class 1, and prob<0.5 as class 0\n",
    "def decision_boundary(a):\n",
    "    for i in range(len(a)):\n",
    "        if a[i]>=0.5:\n",
    "            a[i]=1\n",
    "        else:\n",
    "            a[i]=0\n"
   ]
  },
  {
   "cell_type": "code",
   "execution_count": 244,
   "metadata": {},
   "outputs": [],
   "source": [
    "# implementation of gradient descent to update weights(theta) and return cost of each epoch\n",
    "def train(X_train, y_train):\n",
    "    costs = []\n",
    "    theta = np.random.random((3,1))\n",
    "    m = len(y_train)\n",
    "    for i in range(num_iter):\n",
    "        y_predict = predict(X_train,theta)\n",
    "        d_theta = np.dot(X_train.T, y_predict-y_train)\n",
    "        d_theta = d_theta/m\n",
    "        \n",
    "        # update theta using GD\n",
    "        theta = theta - lr * d_theta\n",
    "        cost = cost_function(X_train, y_train, theta)\n",
    "        costs.append(np.asscalar(cost))\n",
    "    return theta, costs"
   ]
  },
  {
   "cell_type": "code",
   "execution_count": 245,
   "metadata": {},
   "outputs": [],
   "source": [
    "def error_rate(y_predict, y):\n",
    "    diff = y_predict-y\n",
    "    return np.count_nonzero(diff)/len(diff)"
   ]
  },
  {
   "cell_type": "code",
   "execution_count": 246,
   "metadata": {},
   "outputs": [],
   "source": [
    "def main():\n",
    "    X_shuffled, y_shuffled = cross_validation(X, y)\n",
    "    train_error=[]\n",
    "    valid_error=[]\n",
    "    for itr in range(5):\n",
    "        X_train, y_train, X_valid, y_valid = get_next_train_valid(X_shuffled, y_shuffled, itr)\n",
    "        optimal_theta,costs = train(X_train, y_train)\n",
    "        \n",
    "        # print train error rates\n",
    "        y_train_predict = predict(X_train, optimal_theta)\n",
    "        decision_boundary(y_train_predict)\n",
    "        error1 = error_rate(y_train_predict, y_train)\n",
    "        print(\"itr = %d, training error rate is %f\" % (itr,error1))\n",
    "        train_error.append(error1)\n",
    "        # print valid error rates\n",
    "        y_valid_predict = predict(X_valid, optimal_theta)\n",
    "        decision_boundary(y_valid_predict)\n",
    "        error2 = error_rate(y_valid_predict, y_valid)\n",
    "        print(\"itr = %d, valid error rate is %f\" % (itr,error2))\n",
    "        valid_error.append(error2)\n",
    "        \n",
    "    print(\"The average training error rate is: %f\" % (np.mean(train_error)))\n",
    "    print(\"The average valid error rate is: %f\" % (np.mean(valid_error)))\n",
    "    plt.xlabel(\"Epoch\")\n",
    "    plt.ylabel(\"Cost\")\n",
    "    plt.title(\"Convergence of Cost Function with lr = 0.2\")\n",
    "    plt.plot(costs)\n",
    "    plt.show()"
   ]
  },
  {
   "cell_type": "code",
   "execution_count": 247,
   "metadata": {},
   "outputs": [
    {
     "name": "stdout",
     "output_type": "stream",
     "text": [
      "itr = 0, training error rate is 0.008333\n",
      "itr = 0, valid error rate is 0.000000\n",
      "itr = 1, training error rate is 0.008333\n",
      "itr = 1, valid error rate is 0.000000\n",
      "itr = 2, training error rate is 0.000000\n",
      "itr = 2, valid error rate is 0.033333\n",
      "itr = 3, training error rate is 0.008333\n",
      "itr = 3, valid error rate is 0.000000\n",
      "itr = 4, training error rate is 0.008333\n",
      "itr = 4, valid error rate is 0.000000\n",
      "The average training error rate is: 0.006667\n",
      "The average valid error rate is: 0.006667\n"
     ]
    },
    {
     "data": {
      "image/png": "[encoded data removed]",
      "text/plain": [
       "<Figure size 432x288 with 1 Axes>"
      ]
     },
     "metadata": {
      "needs_background": "light"
     },
     "output_type": "display_data"
    }
   ],
   "source": [
    "main()"
   ]
  },
  {
   "cell_type": "markdown",
   "metadata": {},
   "source": [
    "# Summary\n",
    "## How I chose my learning rate\n",
    "The learning rate is usually determined randomly by the user. However, there is still some philosphy to choose a proper learning rate. Here I simply use my formal experience on traing neural networks, with setting learning rate around 0.1. I set lr=0.01, 0.05, 0.1, 0.2 and compared the convergence curves. In my perspective, when lr = 0.2, the cost function converges rapidly and could gain the minimal.\n",
    "## Effects of learning rate\n",
    "In fact, I prefer to consider learning rate as a step each epoch jumps to find a local minima. If the step is large, which means you choose a large learning rate, then you might always overshoot the minima, and it is hard for cost function to converge. What's worse, if your lr is very large, the cost function may even diverge.\n",
    "However, if you choosed a small lr, the cost function will converge too slowly, which means you may waste a lot of time on training."
   ]
  }
 ],
 "metadata": {
  "kernelspec": {
   "display_name": "Python 3",
   "language": "python",
   "name": "python3"
  },
  "language_info": {
   "codemirror_mode": {
    "name": "ipython",
    "version": 3
   },
   "file_extension": ".py",
   "mimetype": "text/x-python",
   "name": "python",
   "nbconvert_exporter": "python",
   "pygments_lexer": "ipython3",
   "version": "3.6.9"
  }
 },
 "nbformat": 4,
 "nbformat_minor": 2
}
