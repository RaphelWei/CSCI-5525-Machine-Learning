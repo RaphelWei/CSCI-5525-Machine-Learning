{
 "cells": [
  {
   "cell_type": "markdown",
   "metadata": {},
   "source": [
    "# Overview\n",
    "In this programming assignment, I mainly design my methods based on the equation $w^* =(A^\\intercal A+\\lambda I)^{-1}A^\\intercal b$. Here $A$ is our feature matrix X, and $b$ is our label y. So, after shuffling the dataset, I used k-fold cross validation to get 5 valid folds, and used the rest folds as training set. Then in function 'train', I implemented this formula to gain predicted labels of input data. Then I compared the predicted label with original labels to calculate rmses. The calculate mean rmse of 5 folds to gain the average as rmse of my model. Changing lambda could get different rmses."
   ]
  },
  {
   "cell_type": "code",
   "execution_count": 207,
   "metadata": {},
   "outputs": [],
   "source": [
    "import pandas as pd\n",
    "import numpy as np\n",
    "import math\n",
    "import matplotlib.pyplot as plt"
   ]
  },
  {
   "cell_type": "code",
   "execution_count": 208,
   "metadata": {},
   "outputs": [],
   "source": [
    "# reading data\n",
    "df = pd.read_csv(\"Housing.csv\")\n",
    "df = df.values\n",
    "X = df[:, 0: -1]\n",
    "y = df[:, -1]\n",
    "y = y.reshape([-1,1])\n",
    "\n",
    "# insert X0 to the first column of X\n",
    "X0 = np.ones((X.shape[0], 1))\n",
    "X = np.concatenate((X0, X), axis = 1)"
   ]
  },
  {
   "cell_type": "code",
   "execution_count": 209,
   "metadata": {},
   "outputs": [],
   "source": [
    "# input - training data X, labels y,\n",
    "# output - X_shuffled, y_shuffled\n",
    "def cross_validation(X, y):\n",
    "    X_shuffled = {}\n",
    "    y_shuffled = {}\n",
    "    num = len(y)\n",
    "    index = np.arange(num)\n",
    "    # shuffle the data\n",
    "    np.random.shuffle(index)\n",
    "    for i in range(5):\n",
    "        X_shuffled[i] = X[index[i*num//5:(i+1)*num//5],:]\n",
    "        y_shuffled[i] = y[index[i*num//5:(i+1)*num//5],:]\n",
    "    return X_shuffled, y_shuffled"
   ]
  },
  {
   "cell_type": "code",
   "execution_count": 210,
   "metadata": {},
   "outputs": [],
   "source": [
    "# merge the rest folds into one matrix to work as training set\n",
    "def merge_dict(itr, mydict):\n",
    "    a = np.ones((1,mydict[itr].shape[1]))\n",
    "    for i in range(5):\n",
    "        if i != itr:\n",
    "            a = np.concatenate((a, mydict[i]), axis=0)\n",
    "    a = np.delete(a, 0, axis=0)\n",
    "    return a"
   ]
  },
  {
   "cell_type": "code",
   "execution_count": 211,
   "metadata": {},
   "outputs": [],
   "source": [
    "def get_next_train_valid(X_shuffled, y_shuffled, itr):\n",
    "    X_valid = X_shuffled[itr]\n",
    "    y_valid = y_shuffled[itr]\n",
    "    X_train = merge_dict(itr, X_shuffled)\n",
    "    y_train = merge_dict(itr, y_shuffled)\n",
    "    return X_train, y_train, X_valid, y_valid"
   ]
  },
  {
   "cell_type": "code",
   "execution_count": 212,
   "metadata": {},
   "outputs": [],
   "source": [
    "def train(X_train, y_train, lamda):\n",
    "    I = np.identity(X_train.shape[1])\n",
    "    temp1 = np.dot(X_train.T, X_train) + lamda * I\n",
    "    temp2 = np.dot(X_train.T, y_train)\n",
    "    temp = np.dot(np.linalg.inv(temp1), temp2)\n",
    "    model_weights = temp[1:temp.shape[0],:]\n",
    "    model_intercept = temp[0, 0]\n",
    "    return model_weights, model_intercept"
   ]
  },
  {
   "cell_type": "code",
   "execution_count": 213,
   "metadata": {},
   "outputs": [],
   "source": [
    "def predict(X_valid, model_weights, model_intercept):\n",
    "    w = np.concatenate((model_intercept.reshape(1,1), model_weights), axis = 0)\n",
    "    y_predict = np.dot(X_valid, w)\n",
    "    return y_predict"
   ]
  },
  {
   "cell_type": "code",
   "execution_count": 224,
   "metadata": {},
   "outputs": [],
   "source": [
    "def main():\n",
    "    X_shuffled, y_shuffled = cross_validation(X, y)\n",
    "    rmse_valid = []\n",
    "    rmse_train = []\n",
    "    for lamda in range(101):\n",
    "        squared_error_valid = []\n",
    "        squared_error_train = []\n",
    "        temp1 = []\n",
    "        temp2 = []\n",
    "        \n",
    "        for itr in range(5):\n",
    "            X_train, y_train, X_valid, y_valid = get_next_train_valid(X_shuffled, y_shuffled, itr)\n",
    "            model_weights, model_intercept= train(X_train, y_train, lamda)\n",
    "            y_predict_valid = predict(X_valid, model_weights, model_intercept)\n",
    "            y_predict_train = predict(X_train, model_weights, model_intercept)\n",
    "            error_valid = y_predict_valid - y_valid\n",
    "            error_train = y_predict_train - y_train\n",
    "            \n",
    "            for val in error_valid:\n",
    "                squared_error_valid.append(val * val)\n",
    "            temp1.append(math.sqrt(sum(squared_error_valid)/len(squared_error_valid)))\n",
    "            \n",
    "            for val in error_train:\n",
    "                squared_error_train.append(val * val)\n",
    "            temp2.append(math.sqrt(sum(squared_error_train)/len(squared_error_train)))\n",
    "        \n",
    "        rmse_valid.append(np.mean(temp1))\n",
    "        rmse_train.append(np.mean(temp2))       \n",
    "        print(\"lmabda = %d, rmse of training set is: %f, rmse of valid set is: %f\" %(lamda, np.mean(temp2), np.mean(temp1)))\n",
    "    \n",
    "    # plot\n",
    "    plt.plot(rmse_valid, label = 'valid set')\n",
    "    plt.plot(rmse_train, label = 'training set')\n",
    "    plt.xlabel(\"lambda\")\n",
    "    plt.ylabel(\"mean rmse\")\n",
    "    plt.legend()\n",
    "    plt.show()"
   ]
  },
  {
   "cell_type": "code",
   "execution_count": 226,
   "metadata": {},
   "outputs": [
    {
     "name": "stdout",
     "output_type": "stream",
     "text": [
      "lmabda = 0, rmse of training set is: 4.633431, rmse of valid set is: 4.871308\n",
      "lmabda = 1, rmse of training set is: 4.730407, rmse of valid set is: 4.959530\n",
      "lmabda = 2, rmse of training set is: 4.776852, rmse of valid set is: 5.004253\n",
      "lmabda = 3, rmse of training set is: 4.800275, rmse of valid set is: 5.027179\n",
      "lmabda = 4, rmse of training set is: 4.814476, rmse of valid set is: 5.041301\n",
      "lmabda = 5, rmse of training set is: 4.824145, rmse of valid set is: 5.051076\n",
      "lmabda = 6, rmse of training set is: 4.831274, rmse of valid set is: 5.058405\n",
      "lmabda = 7, rmse of training set is: 4.836850, rmse of valid set is: 5.064232\n",
      "lmabda = 8, rmse of training set is: 4.841414, rmse of valid set is: 5.069075\n",
      "lmabda = 9, rmse of training set is: 4.845288, rmse of valid set is: 5.073243\n",
      "lmabda = 10, rmse of training set is: 4.848674, rmse of valid set is: 5.076931\n",
      "lmabda = 11, rmse of training set is: 4.851707, rmse of valid set is: 5.080269\n",
      "lmabda = 12, rmse of training set is: 4.854478, rmse of valid set is: 5.083346\n",
      "lmabda = 13, rmse of training set is: 4.857051, rmse of valid set is: 5.086223\n",
      "lmabda = 14, rmse of training set is: 4.859474, rmse of valid set is: 5.088947\n",
      "lmabda = 15, rmse of training set is: 4.861781, rmse of valid set is: 5.091552\n",
      "lmabda = 16, rmse of training set is: 4.863999, rmse of valid set is: 5.094064\n",
      "lmabda = 17, rmse of training set is: 4.866148, rmse of valid set is: 5.096502\n",
      "lmabda = 18, rmse of training set is: 4.868243, rmse of valid set is: 5.098882\n",
      "lmabda = 19, rmse of training set is: 4.870297, rmse of valid set is: 5.101217\n",
      "lmabda = 20, rmse of training set is: 4.872320, rmse of valid set is: 5.103515\n",
      "lmabda = 21, rmse of training set is: 4.874320, rmse of valid set is: 5.105786\n",
      "lmabda = 22, rmse of training set is: 4.876302, rmse of valid set is: 5.108036\n",
      "lmabda = 23, rmse of training set is: 4.878274, rmse of valid set is: 5.110270\n",
      "lmabda = 24, rmse of training set is: 4.880238, rmse of valid set is: 5.112493\n",
      "lmabda = 25, rmse of training set is: 4.882198, rmse of valid set is: 5.114707\n",
      "lmabda = 26, rmse of training set is: 4.884158, rmse of valid set is: 5.116917\n",
      "lmabda = 27, rmse of training set is: 4.886119, rmse of valid set is: 5.119124\n",
      "lmabda = 28, rmse of training set is: 4.888084, rmse of valid set is: 5.121331\n",
      "lmabda = 29, rmse of training set is: 4.890054, rmse of valid set is: 5.123540\n",
      "lmabda = 30, rmse of training set is: 4.892031, rmse of valid set is: 5.125752\n",
      "lmabda = 31, rmse of training set is: 4.894016, rmse of valid set is: 5.127969\n",
      "lmabda = 32, rmse of training set is: 4.896009, rmse of valid set is: 5.130190\n",
      "lmabda = 33, rmse of training set is: 4.898013, rmse of valid set is: 5.132419\n",
      "lmabda = 34, rmse of training set is: 4.900026, rmse of valid set is: 5.134654\n",
      "lmabda = 35, rmse of training set is: 4.902051, rmse of valid set is: 5.136897\n",
      "lmabda = 36, rmse of training set is: 4.904086, rmse of valid set is: 5.139148\n",
      "lmabda = 37, rmse of training set is: 4.906134, rmse of valid set is: 5.141407\n",
      "lmabda = 38, rmse of training set is: 4.908193, rmse of valid set is: 5.143676\n",
      "lmabda = 39, rmse of training set is: 4.910264, rmse of valid set is: 5.145954\n",
      "lmabda = 40, rmse of training set is: 4.912347, rmse of valid set is: 5.148241\n",
      "lmabda = 41, rmse of training set is: 4.914443, rmse of valid set is: 5.150537\n",
      "lmabda = 42, rmse of training set is: 4.916550, rmse of valid set is: 5.152843\n",
      "lmabda = 43, rmse of training set is: 4.918670, rmse of valid set is: 5.155159\n",
      "lmabda = 44, rmse of training set is: 4.920802, rmse of valid set is: 5.157485\n",
      "lmabda = 45, rmse of training set is: 4.922946, rmse of valid set is: 5.159820\n",
      "lmabda = 46, rmse of training set is: 4.925103, rmse of valid set is: 5.162164\n",
      "lmabda = 47, rmse of training set is: 4.927271, rmse of valid set is: 5.164518\n",
      "lmabda = 48, rmse of training set is: 4.929451, rmse of valid set is: 5.166882\n",
      "lmabda = 49, rmse of training set is: 4.931642, rmse of valid set is: 5.169255\n",
      "lmabda = 50, rmse of training set is: 4.933845, rmse of valid set is: 5.171637\n",
      "lmabda = 51, rmse of training set is: 4.936060, rmse of valid set is: 5.174028\n",
      "lmabda = 52, rmse of training set is: 4.938285, rmse of valid set is: 5.176428\n",
      "lmabda = 53, rmse of training set is: 4.940521, rmse of valid set is: 5.178837\n",
      "lmabda = 54, rmse of training set is: 4.942768, rmse of valid set is: 5.181254\n",
      "lmabda = 55, rmse of training set is: 4.945026, rmse of valid set is: 5.183680\n",
      "lmabda = 56, rmse of training set is: 4.947293, rmse of valid set is: 5.186114\n",
      "lmabda = 57, rmse of training set is: 4.949571, rmse of valid set is: 5.188556\n",
      "lmabda = 58, rmse of training set is: 4.951859, rmse of valid set is: 5.191005\n",
      "lmabda = 59, rmse of training set is: 4.954156, rmse of valid set is: 5.193463\n",
      "lmabda = 60, rmse of training set is: 4.956462, rmse of valid set is: 5.195928\n",
      "lmabda = 61, rmse of training set is: 4.958778, rmse of valid set is: 5.198400\n",
      "lmabda = 62, rmse of training set is: 4.961103, rmse of valid set is: 5.200879\n",
      "lmabda = 63, rmse of training set is: 4.963436, rmse of valid set is: 5.203365\n",
      "lmabda = 64, rmse of training set is: 4.965777, rmse of valid set is: 5.205857\n",
      "lmabda = 65, rmse of training set is: 4.968127, rmse of valid set is: 5.208356\n",
      "lmabda = 66, rmse of training set is: 4.970485, rmse of valid set is: 5.210861\n",
      "lmabda = 67, rmse of training set is: 4.972851, rmse of valid set is: 5.213372\n",
      "lmabda = 68, rmse of training set is: 4.975224, rmse of valid set is: 5.215889\n",
      "lmabda = 69, rmse of training set is: 4.977604, rmse of valid set is: 5.218412\n",
      "lmabda = 70, rmse of training set is: 4.979992, rmse of valid set is: 5.220940\n",
      "lmabda = 71, rmse of training set is: 4.982386, rmse of valid set is: 5.223473\n",
      "lmabda = 72, rmse of training set is: 4.984787, rmse of valid set is: 5.226010\n",
      "lmabda = 73, rmse of training set is: 4.987194, rmse of valid set is: 5.228553\n",
      "lmabda = 74, rmse of training set is: 4.989607, rmse of valid set is: 5.231100\n",
      "lmabda = 75, rmse of training set is: 4.992027, rmse of valid set is: 5.233652\n",
      "lmabda = 76, rmse of training set is: 4.994452, rmse of valid set is: 5.236208\n",
      "lmabda = 77, rmse of training set is: 4.996883, rmse of valid set is: 5.238767\n",
      "lmabda = 78, rmse of training set is: 4.999319, rmse of valid set is: 5.241331\n",
      "lmabda = 79, rmse of training set is: 5.001760, rmse of valid set is: 5.243898\n",
      "lmabda = 80, rmse of training set is: 5.004206, rmse of valid set is: 5.246469\n",
      "lmabda = 81, rmse of training set is: 5.006657, rmse of valid set is: 5.249042\n",
      "lmabda = 82, rmse of training set is: 5.009112, rmse of valid set is: 5.251619\n",
      "lmabda = 83, rmse of training set is: 5.011571, rmse of valid set is: 5.254199\n",
      "lmabda = 84, rmse of training set is: 5.014035, rmse of valid set is: 5.256781\n",
      "lmabda = 85, rmse of training set is: 5.016503, rmse of valid set is: 5.259366\n",
      "lmabda = 86, rmse of training set is: 5.018974, rmse of valid set is: 5.261953\n",
      "lmabda = 87, rmse of training set is: 5.021449, rmse of valid set is: 5.264542\n",
      "lmabda = 88, rmse of training set is: 5.023928, rmse of valid set is: 5.267133\n",
      "lmabda = 89, rmse of training set is: 5.026409, rmse of valid set is: 5.269726\n",
      "lmabda = 90, rmse of training set is: 5.028894, rmse of valid set is: 5.272321\n",
      "lmabda = 91, rmse of training set is: 5.031382, rmse of valid set is: 5.274918\n",
      "lmabda = 92, rmse of training set is: 5.033872, rmse of valid set is: 5.277515\n",
      "lmabda = 93, rmse of training set is: 5.036365, rmse of valid set is: 5.280114\n",
      "lmabda = 94, rmse of training set is: 5.038860, rmse of valid set is: 5.282714\n",
      "lmabda = 95, rmse of training set is: 5.041357, rmse of valid set is: 5.285315\n",
      "lmabda = 96, rmse of training set is: 5.043857, rmse of valid set is: 5.287917\n",
      "lmabda = 97, rmse of training set is: 5.046358, rmse of valid set is: 5.290519\n",
      "lmabda = 98, rmse of training set is: 5.048861, rmse of valid set is: 5.293122\n",
      "lmabda = 99, rmse of training set is: 5.051366, rmse of valid set is: 5.295725\n",
      "lmabda = 100, rmse of training set is: 5.053872, rmse of valid set is: 5.298328\n"
     ]
    },
    {
     "data": {
      "image/png": "[encoded data removed]",
      "text/plain": [
       "<Figure size 432x288 with 1 Axes>"
      ]
     },
     "metadata": {
      "needs_background": "light"
     },
     "output_type": "display_data"
    }
   ],
   "source": [
    "main()\n"
   ]
  }
 ],
 "metadata": {
  "kernelspec": {
   "display_name": "Python 3",
   "language": "python",
   "name": "python3"
  },
  "language_info": {
   "codemirror_mode": {
    "name": "ipython",
    "version": 3
   },
   "file_extension": ".py",
   "mimetype": "text/x-python",
   "name": "python",
   "nbconvert_exporter": "python",
   "pygments_lexer": "ipython3",
   "version": "3.6.9"
  }
 },
 "nbformat": 4,
 "nbformat_minor": 2
}
